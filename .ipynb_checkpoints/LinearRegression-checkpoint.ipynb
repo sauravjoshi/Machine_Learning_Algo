{
 "cells": [
  {
   "cell_type": "markdown",
   "metadata": {},
   "source": [
    "#  This is a python notebook showing a working Regression Algorithm specifically Linear Regression \n",
    "\n",
    "```\n",
    "------------------------------------------------------------------------------------------------------------\n",
    "Date     : 15 Sept, 2017\n",
    "Author   : Saurav Joshi\n",
    "Purpose  : A notebook illustrating the working of a self designed Linear Regression Algorithm.\n",
    "------------------------------------------------------------------------------------------------------------\n",
    "```"
   ]
  },
  {
   "cell_type": "markdown",
   "metadata": {},
   "source": [
    "### Making the required imports"
   ]
  },
  {
   "cell_type": "code",
   "execution_count": 1,
   "metadata": {
    "collapsed": true
   },
   "outputs": [],
   "source": [
    "import numpy as np\n",
    "import random\n",
    "import matplotlib.pyplot as plt\n",
    "from matplotlib import style\n",
    "from statistics import mean"
   ]
  },
  {
   "cell_type": "markdown",
   "metadata": {},
   "source": [
    "```\n",
    "------------------------------------------------------------------------------------------------------------\n",
    "```\n",
    "### Making functions for dataset creation, obtaining the parameter for the best-fit line and finally calculating the coefficient of determination.\n",
    "#### The equation for a straight line is simple $y=mx+b$ \n",
    "#### The parameters for the best-fit line consists for the slope and the intercept which can be calculated as:-\n",
    "$$m = \\frac{\\bar x. \\bar y - \\overline{xy}}{{\\bar x}^2 - {\\bar {x^2}}}$$\n",
    "#### and  the intercept can be calculated as:- $$b = {\\bar y - {m.\\bar x}}$$\n",
    "```\n",
    "------------------------------------------------------------------------------------------------------------\n",
    "```"
   ]
  },
  {
   "cell_type": "markdown",
   "metadata": {},
   "source": [
    "### Calculating the goodness of the best -fit line obtained using *Residual Sum of Squared* or *R Squared*\n",
    "$$ r^2 = 1 - \\frac{SE \\hat y}{SE \\bar y} $$ <br> $$ SE \\hat y = \\sqrt{(y_{original} - y_{regression line})^2}$$  <br> $$ SE \\bar y = \\sqrt{(y_{original} - y_{meanoforiginalline})^2}$$\n",
    "* Here $ \\hat y $ refers to the best-fit line and $ \\bar y $ refers to the mean of original line\n",
    "\n",
    "```\n",
    "------------------------------------------------------------------------------------------------------------\n",
    "```"
   ]
  },
  {
   "cell_type": "code",
   "execution_count": 13,
   "metadata": {
    "collapsed": true
   },
   "outputs": [],
   "source": [
    "style.use('fivethirtyeight')\n",
    "\n",
    "xs = np.array([1,2,3,4,5,6], dtype=np.float64)\n",
    "ys = np.array([5,4,6,5,6,7], dtype=np.float64)\n",
    "\n",
    "#hm stands for how many data points we want to create and variance for how much variable we want this data set to be\n",
    "\n",
    "def create_dataset(hm, variance, step=2, correlation=False):\n",
    "    val =1 \n",
    "    ys = []\n",
    "    for i in range(hm):\n",
    "        y = val + random.randrange(-variance, variance)\n",
    "        ys.append(y)\n",
    "        if correlation and correlation =='pos':\n",
    "            val+=step\n",
    "        elif correlation and correlation =='neg':\n",
    "            val -=step\n",
    "    xs = [i for i in range(len(ys))]\n",
    "    return np.array(xs, dtype=np.float64), np.array(ys, dtype=np.float64)\n",
    "    \n",
    "def best_fit_slope_and_intercept(xs, ys):\n",
    "    m = ( ( (mean(xs)*mean(ys)) - mean(xs*ys)) / \n",
    "         ( (mean(xs)*mean(xs)) - mean(xs*xs)) )\n",
    "    b= mean(ys) - m*mean(xs)\n",
    "    return m, b\n",
    "\n",
    "def squared_error(ys_orig, ys_line):\n",
    "    return sum((ys_line -  ys_orig)**2)\n",
    "\n",
    "def cofficient_of_determination(ys_orig, ys_line):\n",
    "    y_mean_line = [mean(ys_orig) for y in ys_orig]\n",
    "    squared_error_regr = squared_error(ys_orig, ys_line)\n",
    "    squared_error_y_mean = squared_error(ys_orig, y_mean_line)\n",
    "    return 1 - (squared_error_regr / squared_error_y_mean)"
   ]
  },
  {
   "cell_type": "markdown",
   "metadata": {},
   "source": [
    "*We square the error beacuse we want to penalize our model for the outliers. Also the standard is the squared error.*\n",
    "*This ** $r^2$ ** is considered as the degree of certainity or goodness or determination.*"
   ]
  },
  {
   "cell_type": "markdown",
   "metadata": {},
   "source": [
    "### Calling the defined functions and thus obtaining best-fit slope, best-fit intercept and finally the degree of certainity "
   ]
  },
  {
   "cell_type": "code",
   "execution_count": 27,
   "metadata": {},
   "outputs": [
    {
     "name": "stdout",
     "output_type": "stream",
     "text": [
      "0.408268477485\n"
     ]
    }
   ],
   "source": [
    "xs, ys = create_dataset(40, 40, 2, correlation='pos')\n",
    "m,b = best_fit_line_and_slope(xs, ys)\n",
    "regression_line = [(m*x) + b for x in xs]\n",
    "sq_error = squared_error(ys, regression_line)\n",
    "r_sqaured = coefficient_of_determination(ys, regression_line)\n",
    "print (r_sqaured)"
   ]
  },
  {
   "cell_type": "markdown",
   "metadata": {},
   "source": [
    "### Making a prediction for a random point giving its x- parameter"
   ]
  },
  {
   "cell_type": "code",
   "execution_count": 17,
   "metadata": {
    "collapsed": true
   },
   "outputs": [],
   "source": [
    "predict_x = 13\n",
    "predict_y = m*predict_x + b"
   ]
  },
  {
   "cell_type": "code",
   "execution_count": 18,
   "metadata": {},
   "outputs": [
    {
     "data": {
      "image/png": "[encoded data removed]",
      "text/plain": [
       "<matplotlib.figure.Figure at 0x1aad50410b8>"
      ]
     },
     "metadata": {},
     "output_type": "display_data"
    }
   ],
   "source": [
    "plt.scatter(xs, ys)\n",
    "plt.scatter(predict_x, predict_y, s = 200, color='g')\n",
    "plt.plot(xs, regression_line)\n",
    "plt.show()"
   ]
  }
 ],
 "metadata": {
  "kernelspec": {
   "display_name": "Python 3",
   "language": "python",
   "name": "python3"
  },
  "language_info": {
   "codemirror_mode": {
    "name": "ipython",
    "version": 3
   },
   "file_extension": ".py",
   "mimetype": "text/x-python",
   "name": "python",
   "nbconvert_exporter": "python",
   "pygments_lexer": "ipython3",
   "version": "3.6.1"
  }
 },
 "nbformat": 4,
 "nbformat_minor": 2
}
